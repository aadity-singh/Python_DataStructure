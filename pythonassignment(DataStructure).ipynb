{
 "cells": [
  {
   "cell_type": "markdown",
   "id": "b416f459-28b8-44f8-8197-db5a2911931d",
   "metadata": {},
   "source": [
    "# Data Types and Structures Questions:-"
   ]
  },
  {
   "cell_type": "code",
   "execution_count": null,
   "id": "840b09a7-0023-4304-a585-d8a5db15caea",
   "metadata": {},
   "outputs": [],
   "source": [
    "# 1. What are data structures, and why are they important?\n",
    "  -> A data structure is a way of organizing and storing data so that it can be accessed and modified efficiently. Different data structures are designed to suit different types of operations, whether it's for efficient searching, sorting, insertion, or deletion.\n",
    "     Some common types of data structures are arrays, stacks,queues, linked lists, hash tables, trees and graphs.\n",
    "     Data structures are important for there efficiency, optimizing algorithms,memory management, problem solving, scalability and maintainability, and real-world applications.\n"
   ]
  },
  {
   "cell_type": "markdown",
   "id": "0955226e-e898-4b70-802c-944f2a142862",
   "metadata": {},
   "source": [
    "# 2.  Explain the difference between mutable and immutable data types with examples.\n",
    "      -> Mutable data types can be modified after creation. It modifies original objects. It typically uses less memory, as changes occur             in-place.It is suitable for data that needs to change over time. Some mutabl data types are lists, sets and dictionaries.\n",
    "         Example: # Example of mutable list\n",
    "                    my_list = [1, 2, 3]\n",
    "                    my_list[0] = 10 # Modifying an element\n",
    "                    print(my_list)  # Output: [10, 2, 3]\n",
    "         Immutable data types cann't be modified after creation.It creates a new object with the modified value.It may use more memory,as             modifying creates new objects. It suitable for data that should remain constant. Some immutable data types are tuples, Strings, etc.\n",
    "         Example: # Example of immutable string\n",
    "                    my_string = \"hello\"\n",
    "                    # Trying to modify a string will raise an error\n",
    "                    # my_string[0] = \"H\"  # This will raise a TypeError\n"
   ]
  },
  {
   "cell_type": "markdown",
   "id": "1fcd5657-0331-4590-bbf3-16777c115c02",
   "metadata": {},
   "source": [
    "#3. What are the main differences between lists and tuples in Python?\n",
    "    -> The main diffrence between lists and tuples are:\n",
    "       1. Lists are mutable means which can be modified after creation  but tuples are not.\n",
    "       2. Lists are defined using square brackets'[]' while tuples are defined using parentheses'{}'.\n",
    "       3. Lists are slower than tuples due to its mutability.\n",
    "       4. Lists has more methods like append(), remove(), pop(), etc., due to its mutability where as tuple has fewer methods like count()              and index(),since it is immutable.\n",
    "       5. Lists generally uses more memory because of its ability to grow and shrink dynamically on otherhand tuples are more memory-                   efficient due to its fixed size.\n",
    "       6. Lists are best for collections of items that may change like adding or removing items.Tuple are ideal for fixed collections of               data that should not change, like coordinates or data pairs."
   ]
  },
  {
   "cell_type": "markdown",
   "id": "49a040f5-96ef-4d54-a021-77c8aba9c70b",
   "metadata": {},
   "source": [
    "#4.  Describe how dictionaries store data.\n",
    "     -> Dictionaries are collections of key-value pairs, where each key is unique and is associated with a specific value. They are used to          store data in a way that allows for efficient retrieval, insertion, and deletion of values based on keys.The key can be any                  immutable data type (such as strings, integers, or tuples), and the value can be of any data type (like numbers, lists, objects).\n",
    "        Dictionaries use a concept called hashing to store and quickly retrieve data. When a key is added to the dictionary, the key is              passed through a hash function, which converts the key into a hash value (a unique number).\n",
    "        Example: my_dict = {'name': 'John', 'age': 25, 'city': 'New York'}\n"
   ]
  },
  {
   "cell_type": "markdown",
   "id": "0c27249a-1f40-4cb8-9476-9330ea9fe267",
   "metadata": {},
   "source": [
    "#5. Why might you use a set instead of a list in Python?\n",
    "    -> To use a set instead of a list in Python for several important reasons:\n",
    "       1.A set automatically ensures that all elements are unique. If you attempt to add a duplicate element, it will not be added.But list           allows duplicates, meaning you can store the same element multiple times.\n",
    "       2.Sets are implemented using hash tables, so checking if an item is in a set is very fast where as checking membership in a list               requires scanning through the entire list, which can be slower.\n",
    "       3.Sets support powerful mathematical set operations such as union, intersection, and difference directly, which makes it easy to               perform operations like finding common elements or differences between sets.Lists don’t provide these operations directly, so it             required to use loops or additional methods to perform similar operation.\n",
    "       4.Sets are unordered, meaning the elements do not have a specific order. This can be a benefit when you don't care about the order of          elements.Lists are ordered, meaning the order in which you insert elements is preserved.\n",
    "       5.Sets are implemented with hash tables, they can be more memory efficient when you're working with large collections of unique items          because they don't store the same element multiple times.Lists use more memory to store items, especially when they contain                  duplicates.\n",
    "       6.Removing an element from a set is typically faster than from a list because of the underlying hash table."
   ]
  },
  {
   "cell_type": "markdown",
   "id": "60188b4f-3c5c-4213-b46d-ec61bf8f747c",
   "metadata": {},
   "source": [
    "#6.  What is a string in Python, and how is it different from a list?\n",
    "     -> A string in Python is a sequence of characters enclosed in either single quotes (' ') or double quotes (\" \"). It is a built-in data          type used to represent text in Python.Strings are immutable.\n",
    "        Example:my_string1 = \"Hello, World!\"\n",
    "                my_string2 = 'Python is great'\n",
    "        String is different from a list in many ways like:\n",
    "        1. String is a sequence of characters where as list is a collection of any data type elements. \n",
    "        2. Strings are immutable but lists are mutable.\n",
    "        3. String allows indexing of characters where as list allows indexing of elements.\n",
    "        4. In string mainly text operations like concatenation, case conversion, etc are performed but in list all-purpose operations(add,              remove, modify)\n",
    "        5. String is used for representing text while list is used for collection of any data type elements.\n"
   ]
  },
  {
   "cell_type": "markdown",
   "id": "477de477-1649-4e60-b92c-c823e8d0f753",
   "metadata": {},
   "source": [
    "#7.  How do tuples ensure data integrity in Python?\n",
    "     -> Tuples ensure data integrity by:\n",
    "        1. Being immutable: Once created, their content cannot be modified, added, or removed, protecting the data from accidental changes.\n",
    "        2. Being hashable: This allows tuples to be used as dictionary keys or set elements, which depend on data integrity for consistent                              behavior.\n",
    "        3. Enabling memory efficiency and thread safety, reducing risks associated with data corruption or unintended changes.\n",
    "        Example: my_tuple = (1, 2, 3)\n",
    "                 # my_tuple[0] = 10  # This will raise an error because tuples are immutable\n"
   ]
  },
  {
   "cell_type": "markdown",
   "id": "359cb434-0b4c-41a7-815f-f84283655d1b",
   "metadata": {},
   "source": [
    "#8.  What is a hash table, and how does it relate to dictionaries in Python?\n",
    "     -> A hash table (or hash map) is a data structure that stores data in key-value pairs, enabling fast access to values based on their            keys. The key is processed through a hash function, which transforms the key into an index (a hash value) in an array (or list)              where the value is stored.\n",
    "        Hash table is relate to dictionaries in many ways:\n",
    "        1. Dictionaries in Python are built on the concept of a hash table. They store key-value pairs and use a hash function to map keys              to indices where the values are stored.\n",
    "        2. The efficiency of dictionaries comes from the constant-time lookups enabled by hashing, making operations like retrieval,                    insertion, and deletion very fast on average.\n",
    "        3. Python's dictionary handles collisions and ensures data integrity using techniques like chaining or open addressing."
   ]
  },
  {
   "cell_type": "markdown",
   "id": "33937535-cc36-48ef-8d7b-b518f1b38d47",
   "metadata": {},
   "source": [
    "#9.  Can lists contain different data types in Python?\n",
    "     -> Yes, lists in Python can contain different data types. A Python list is an ordered collection that can store any type of object, and         its elements do not need to be of the same data type. You can mix integers, strings, floats, booleans, other lists, dictionaries, or         any other Python objects within the same list.\n",
    "        Example: my_list = [1, \"hello\", 3.14, True, [1, 2, 3], {\"key\": \"value\"}]\n"
   ]
  },
  {
   "cell_type": "markdown",
   "id": "cadb127e-048d-4ae5-b825-38fabfe094b6",
   "metadata": {},
   "source": [
    "#10.  Explain why strings are immutable in Python.\n",
    "      -> Strings are immutable in Python to ensure performance optimization, data integrity, consistency, and predictability. This                    immutability leads to better memory management, prevents accidental changes to string data, and ensures that operations on strings           do not introduce side effects, making the language easier to use and debug. The design of immutable strings also enhances security,          especially in multi-threaded environments, and allows Python to leverage efficient optimizations for string handling."
   ]
  },
  {
   "cell_type": "markdown",
   "id": "22c75f03-cfb6-4762-8825-6563c8895b8e",
   "metadata": {},
   "source": [
    "#11. What advantages do dictionaries offer over lists for certain tasks?\n",
    "     -> The advantages are:\n",
    "        1. Dictionaries allow fast lookups using keys, typically in O(1) time, because the key is hashed to determine the index.Lists, on               the other hand, require O(n) time to search through each element, as it’s based on index or value, not a key.\n",
    "        2. Dictionaries allow you to store data without assuming any order.Each key-value pair is unique, and you can access values using               their keys directly. This is particularly useful when the order of data is irrelevant but you need to efficiently retrieve or                modify specific items.Lists store data in a specific order so you must access elements by their index or search for values.\n",
    "        3. Dictionaries automatically prevent duplicate keys so if you try to insert a new value for an existing key, it simply updates the             value for that key.Lists can have duplicates.\n",
    "        4. Dictionaries allow deletion of elements by their key in constant time (O(1)).Lists would require shifting elements after removal,            which can be less efficient.\n",
    "        5. Dictionaries are more suitable for tasks like:\n",
    "           # Looking up or associating data based on unique identifiers (e.g., finding an employee by ID).\n",
    "           # Storing and manipulating mappings between two data sets (e.g., name -> salary).\n",
    "           Lists are better for tasks like:\n",
    "           # Maintaining an ordered collection (e.g., a list of ordered tasks).\n",
    "           # Iterating over items when order matters."
   ]
  },
  {
   "cell_type": "markdown",
   "id": "a4839d7c-c82d-4221-8e2b-d91b899e2ac9",
   "metadata": {},
   "source": [
    "#12. Describe a scenario where using a tuple would be preferable over a list.\n",
    "     -> Imagine you're developing a mapping application, and you need to store a set of geographical coordinates (latitude and longitude)            for a location. These coordinates are fixed once they are assigned and should not change. For such kind of scenario where elements           should be fixed ,tuples are used. Because :\n",
    "        1. They are immutable data structure.\n",
    "        2. Tuple ensures that the data integrity is maintained throughout the program.\n",
    "        3. Tuples are typically faster than lists for operations like iteration or access because they have a smaller memory footprint and              are optimized for immutability.\n",
    "        4. Using a tuple conveys the idea that the data is a fixed, unchanging collection. This makes the code easier to understand and                 helps prevent misuse or errors where the coordinates could be accidentally modified."
   ]
  },
  {
   "cell_type": "markdown",
   "id": "b325e500-72b6-4944-b501-45c1c06f7c84",
   "metadata": {},
   "source": [
    "#13.  How do sets handle duplicate values in Python?\n",
    "      -> In python, sets automatically handle duplicate values by removing them. A set is an unordered collection of unique elements,                 meaning it will not store any duplicate values. When you try to add a duplicate element to a set, it will simply ignore the                  duplicate and not add it again."
   ]
  },
  {
   "cell_type": "markdown",
   "id": "fe8250ea-5592-4d72-956f-d282662df1df",
   "metadata": {},
   "source": [
    "#14.  How does the “in” keyword work differently for lists and dictionaries?\n",
    "      -> When you use in with a list, it checks if a specific element is present in the list. It iterates through the list and returns True           if the element is found, otherwise, it returns False.\n",
    "         Example: my_list = [10, 20, 30, 40]\n",
    "                    # Check if 20 is in the list\n",
    "                    print(20 in my_list)  # Output: True\n",
    "                    # Check if 50 is in the list\n",
    "                    print(50 in my_list)  # Output: False\n",
    "         When you use in with a dictionary, it checks if a key exists in the dictionary, not the values. Specifically, it checks whether the          given key is present in the dictionary’s keys.\n",
    "         Example: my_dict = {'a': 1, 'b': 2, 'c': 3}\n",
    "                    # Check if 'b' is a key in the dictionary\n",
    "                    print('b' in my_dict)  # Output: True\n",
    "                    # Check if 'd' is a key in the dictionary\n",
    "                    print('d' in my_dict)  # Output: False"
   ]
  },
  {
   "cell_type": "markdown",
   "id": "4908743f-ae60-47dc-850d-225871fcbaa2",
   "metadata": {},
   "source": [
    "#15. Can you modify the elements of a tuple? Explain why or why not.\n",
    "     -> No, you cannot modify the elements of a tuple after it has been created. This is because tuples are immutable in Python, meaning             once a tuple is created, its elements cannot be changed, added, or removed.\n",
    "        Example : # Creating a tuple\n",
    "                    my_tuple = (1, 2, 3)\n",
    "                    # Attempting to modify the tuple\n",
    "                    my_tuple[0] = 10  # This will raise a TypeError\n"
   ]
  },
  {
   "cell_type": "markdown",
   "id": "710d3fc2-450b-4b4f-bac4-015e8289486e",
   "metadata": {},
   "source": [
    "#16.  What is a nested dictionary, and give an example of its use case?\n",
    "      -> Nested dictionary in Python is a dictionary where the values themselves are dictionaries. This allows you to create complex data            structures where each key in the dictionary maps to another dictionary, enabling you to represent hierarchical or multi-level data.\n",
    "        Structure of nested dictionary is like:\n",
    "        A dictionary can have keys that point to other dictionaries as their values.\n",
    "        The inner dictionaries can have their own keys and values, creating multiple levels of nesting.\n",
    "        Imagine a school management system where you need to store information about multiple students, each with multiple attributes like           their name, age, grades, and courses. A nested dictionary would be an ideal way to represent this data.\n",
    "        Example: students = {\n",
    "                \"student_1\": {\n",
    "                    \"name\": \"Alice\",\n",
    "                    \"age\": 20,\n",
    "                    \"grades\": {\"math\": 90, \"science\": 85},\n",
    "                    \"courses\": [\"Math 101\", \"Physics 101\"]\n",
    "                },\n",
    "                \"student_2\": {\n",
    "                    \"name\": \"Bob\",\n",
    "                    \"age\": 22,\n",
    "                    \"grades\": {\"math\": 80, \"science\": 88},\n",
    "                    \"courses\": [\"Math 101\", \"Chemistry 101\"]\n",
    "                     }\n",
    "                }\n",
    "\n",
    "                # Accessing data in the nested dictionary\n",
    "                print(students[\"student_1\"][\"name\"])  # Output: Alice\n",
    "                print(students[\"student_2\"][\"grades\"][\"science\"])  # Output: 88\n"
   ]
  },
  {
   "cell_type": "markdown",
   "id": "f20bcd30-3095-458b-a0e6-5fe57b3a2e60",
   "metadata": {},
   "source": [
    "#17. Describe the time complexity of accessing elements in a dictionary.\n",
    "     -> The time complexity of accessing elements in a Python dictionary is typically O(1), meaning it takes constant time regardless of the         size of the dictionary. This is because dictionaries in Python are implemented using a hash table under the hood, which allows for           fast lookups, insertions, and deletions. However, in the worst case with hash collisions, the time complexity can degrade to O(n),           though this scenario is rare."
   ]
  },
  {
   "cell_type": "markdown",
   "id": "8da38508-b6f0-4345-864f-0ea4468a646e",
   "metadata": {},
   "source": [
    "#18.In what situations are lists preferred over dictionaries?\n",
    "    -> Lists are preferred over dictionaries in the following situations:-\n",
    "       1. When you need to maintain the order of elements.\n",
    "       2. When You Need to Store a Sequence of Homogeneous Items.\n",
    "       3. When you need fast, indexed access to elements and plan to iterate over them.\n",
    "       4. When duplicates are allowed or needed.\n",
    "       5. When you need to extract or manipulate subsequences of elements.\n",
    "       6. When you need to use operations like append(), extend(), remove(), or sort().\n",
    "\n"
   ]
  },
  {
   "cell_type": "markdown",
   "id": "b93b2aaf-662d-4247-bbec-bacc4f4c4df8",
   "metadata": {},
   "source": [
    "#19.Why are dictionaries considered unordered, and how does that affect data retrieval?\n",
    "    -> Dictionaries in Python are implemented using a hash table, which organizes data based on hash values computed from the keys.In a hash        table, elements are stored in \"buckets\" based on their hash value. The placement of elements depends on the hash function, not the           order in which elements are inserted. In Python versions before 3.7, dictionaries did not guarantee that the order of items remained         the same as the order of insertion. The elements were stored according to their hash values and could appear in any order during             iteration or when accessed.Despite this, the key-value retrieval process remains efficient and unaffected by the order of insertion."
   ]
  },
  {
   "cell_type": "markdown",
   "id": "846d290f-07f2-4def-83ba-9aa61e81e069",
   "metadata": {},
   "source": [
    "#20.Explain the difference between a list and a dictionary in terms of data retrieval.\n",
    "    -> Lists are better when you need to store and access elements in a specific sequence, based on their index or position in the                  collection because it access data by indexing. It maintain order of insertion. its time complexity is o(1) for indexing.\n",
    "       Dictionaries are ideal when you need to retrieve values based on unique keys and don't care about the order of the elements.Its time         complexity is O(1) for key-based retrieval.\n",
    "       "
   ]
  },
  {
   "cell_type": "markdown",
   "id": "a7bf7d8b-f5ab-41b9-81df-44a45944684d",
   "metadata": {},
   "source": [
    "# Practical Questions:-"
   ]
  },
  {
   "cell_type": "code",
   "execution_count": 13,
   "id": "5df4d6f2-bcb4-4512-b9a5-091791e5884e",
   "metadata": {},
   "outputs": [
    {
     "name": "stdout",
     "output_type": "stream",
     "text": [
      "Virat Kohli\n"
     ]
    }
   ],
   "source": [
    "#1. Write a code to create a string with your name and print it.\n",
    "name = \"Virat Kohli\"\n",
    "print(name)"
   ]
  },
  {
   "cell_type": "code",
   "execution_count": 15,
   "id": "9b7ff83c-fa60-430d-a950-47e8e90f03a5",
   "metadata": {},
   "outputs": [
    {
     "name": "stdout",
     "output_type": "stream",
     "text": [
      "11\n"
     ]
    }
   ],
   "source": [
    "#2.  Write a code to find the length of the string \"Hello World\".\n",
    "str1 = \"Hello World\"\n",
    "print(len(str1))"
   ]
  },
  {
   "cell_type": "code",
   "execution_count": 17,
   "id": "0323d4d9-8db4-4262-88f4-cc0aea251453",
   "metadata": {},
   "outputs": [
    {
     "name": "stdout",
     "output_type": "stream",
     "text": [
      "Pyt\n"
     ]
    }
   ],
   "source": [
    "#3.  Write a code to slice the first 3 characters from the string \"Python Programming\".\n",
    "str1 = \"Python Programming\"\n",
    "sliced_str1 = str1[:3]\n",
    "print(sliced_str1)\n"
   ]
  },
  {
   "cell_type": "code",
   "execution_count": 1,
   "id": "a659a19c-fcdb-4c0d-b24b-56d235358ec5",
   "metadata": {},
   "outputs": [
    {
     "name": "stdout",
     "output_type": "stream",
     "text": [
      "HELLO\n"
     ]
    }
   ],
   "source": [
    "#4. Write a code to convert the string \"hello\" to uppercase.\n",
    "str1 = \"hello\"\n",
    "print(str1.upper())"
   ]
  },
  {
   "cell_type": "code",
   "execution_count": 5,
   "id": "5929520a-719b-4c33-9184-69481e87a860",
   "metadata": {},
   "outputs": [
    {
     "name": "stdout",
     "output_type": "stream",
     "text": [
      "I like orange\n"
     ]
    }
   ],
   "source": [
    "#5.  Write a code to replace the word \"apple\" with \"orange\" in the string \"I like apple\".\n",
    "str1 = \"I like apple\"\n",
    "update_str1 = str1.replace(\"apple\",\"orange\")\n",
    "print(update_str1)"
   ]
  },
  {
   "cell_type": "code",
   "execution_count": 7,
   "id": "f9a728dc-934e-4bcd-8ab8-81b62dde560b",
   "metadata": {},
   "outputs": [
    {
     "name": "stdout",
     "output_type": "stream",
     "text": [
      "[1, 2, 3, 4, 5]\n"
     ]
    }
   ],
   "source": [
    "#6.  Write a code to create a list with numbers 1 to 5 and print it.\n",
    "numbers = [1,2,3,4,5]\n",
    "print(numbers)"
   ]
  },
  {
   "cell_type": "code",
   "execution_count": 9,
   "id": "4eb029d9-4c2a-4272-bc30-6c7b83f9ed46",
   "metadata": {},
   "outputs": [
    {
     "name": "stdout",
     "output_type": "stream",
     "text": [
      "[1, 2, 3, 4, 10]\n"
     ]
    }
   ],
   "source": [
    "#7. Write a code to append the number 10 to the list [1, 2, 3, 4].\n",
    "num = [1,2,3,4]\n",
    "num.append(10)\n",
    "print(num)"
   ]
  },
  {
   "cell_type": "code",
   "execution_count": 11,
   "id": "e92aa141-58f4-4262-85b0-34c54a5cde8d",
   "metadata": {},
   "outputs": [
    {
     "name": "stdout",
     "output_type": "stream",
     "text": [
      "[1, 2, 4, 5]\n"
     ]
    }
   ],
   "source": [
    "#8. Write a code to remove the number 3 from the list [1, 2, 3, 4, 5].\n",
    "num = [1,2,3,4,5]\n",
    "num.remove(3)\n",
    "print(num)"
   ]
  },
  {
   "cell_type": "code",
   "execution_count": 13,
   "id": "6d4f186f-fd01-4775-9086-49a6aefc99ee",
   "metadata": {},
   "outputs": [
    {
     "name": "stdout",
     "output_type": "stream",
     "text": [
      "b\n"
     ]
    }
   ],
   "source": [
    "#9.  Write a code to access the second element in the list ['a', 'b', 'c', 'd'].\n",
    "letters = ['a', 'b', 'c', 'd']\n",
    "second_element = letters[1]\n",
    "print(second_element)"
   ]
  },
  {
   "cell_type": "code",
   "execution_count": 15,
   "id": "8246b1cc-fcfa-4492-b647-caece8354a3d",
   "metadata": {},
   "outputs": [
    {
     "name": "stdout",
     "output_type": "stream",
     "text": [
      "[50, 40, 30, 20, 10]\n"
     ]
    }
   ],
   "source": [
    "#10.  Write a code to reverse the list [10, 20, 30, 40, 50].\n",
    "numbers = [10, 20, 30, 40, 50]\n",
    "numbers.reverse()\n",
    "print(numbers)"
   ]
  },
  {
   "cell_type": "code",
   "execution_count": 17,
   "id": "844cb1d3-e6e1-4041-9ada-28f3ee4bed38",
   "metadata": {},
   "outputs": [
    {
     "name": "stdout",
     "output_type": "stream",
     "text": [
      "(10, 20, 30)\n"
     ]
    }
   ],
   "source": [
    "#11. Write a code to create a tuple with the elements 10, 20, 30 and print it.\n",
    "tup = (10,20,30)\n",
    "print(tup)"
   ]
  },
  {
   "cell_type": "code",
   "execution_count": 21,
   "id": "1f21654b-e245-40bb-88c0-38fb10ce9e8d",
   "metadata": {},
   "outputs": [
    {
     "name": "stdout",
     "output_type": "stream",
     "text": [
      "apple\n"
     ]
    }
   ],
   "source": [
    "#12. Write a code to access the first element of the tuple ('apple', 'banana', 'cherry').\n",
    "tup = (\"apple\",\"banana\",\"cherry\")\n",
    "first_element=tup[0]\n",
    "print(first_element)"
   ]
  },
  {
   "cell_type": "code",
   "execution_count": 23,
   "id": "ed7f1551-0b42-4ebe-bab8-4e44e8e4044a",
   "metadata": {},
   "outputs": [
    {
     "name": "stdout",
     "output_type": "stream",
     "text": [
      "3\n"
     ]
    }
   ],
   "source": [
    "#13.  Write a code to count how many times the number 2 appears in the tuple (1, 2, 3, 2, 4, 2).\n",
    "tup = (1,2,3,2,4,2)\n",
    "print(tup.count(2))"
   ]
  },
  {
   "cell_type": "code",
   "execution_count": 25,
   "id": "a2b44a63-c33d-46db-ba51-96783f47035b",
   "metadata": {},
   "outputs": [
    {
     "name": "stdout",
     "output_type": "stream",
     "text": [
      "1\n"
     ]
    }
   ],
   "source": [
    "#14.  Write a code to find the index of the element \"cat\" in the tuple ('dog', 'cat', 'rabbit').\n",
    "animals = ('dog','cat','rabbit')\n",
    "index_of_cat = animals.index('cat')\n",
    "print(index_of_cat)"
   ]
  },
  {
   "cell_type": "code",
   "execution_count": 27,
   "id": "531420c7-122b-4bdf-a5a4-a89e6431409a",
   "metadata": {},
   "outputs": [
    {
     "name": "stdout",
     "output_type": "stream",
     "text": [
      "True\n"
     ]
    }
   ],
   "source": [
    "#15. Write a code to check if the element \"banana\" is in the tuple ('apple', 'orange', 'banana').\n",
    "fruits = ('apple','orange','banana')\n",
    "banana_in_fruits = 'banana' in fruits\n",
    "print(banana_in_fruits)"
   ]
  },
  {
   "cell_type": "code",
   "execution_count": 29,
   "id": "704cae42-d672-4108-9066-ac47cad8e8b1",
   "metadata": {},
   "outputs": [
    {
     "name": "stdout",
     "output_type": "stream",
     "text": [
      "{1, 2, 3, 4, 5}\n"
     ]
    }
   ],
   "source": [
    "#16.  Write a code to create a set with the elements 1, 2, 3, 4, 5 and print it.\n",
    "my_set = {1, 2, 3, 4, 5}\n",
    "print(my_set)"
   ]
  },
  {
   "cell_type": "code",
   "execution_count": 33,
   "id": "2bdd5852-e960-434b-b4e5-b5a495d9510e",
   "metadata": {},
   "outputs": [
    {
     "name": "stdout",
     "output_type": "stream",
     "text": [
      "{1, 2, 3, 4, 6}\n"
     ]
    }
   ],
   "source": [
    "#17.  Write a code to add the element 6 to the set {1, 2, 3, 4}.\n",
    "set1 = {1,2,3,4}\n",
    "set1.add(6)\n",
    "print(set1)"
   ]
  },
  {
   "cell_type": "code",
   "execution_count": 35,
   "id": "d3f5c424-a168-4cd4-9119-c8429b8a1578",
   "metadata": {},
   "outputs": [
    {
     "name": "stdout",
     "output_type": "stream",
     "text": [
      "(10, 20, 30)\n"
     ]
    }
   ],
   "source": [
    "#18.  Write a code to create a tuple with the elements 10, 20, 30 and print it.\n",
    "my_tuple = (10, 20, 30)\n",
    "print(my_tuple)"
   ]
  },
  {
   "cell_type": "code",
   "execution_count": 37,
   "id": "9160db0f-cc8b-4da8-bbc0-63412bc311b3",
   "metadata": {},
   "outputs": [
    {
     "name": "stdout",
     "output_type": "stream",
     "text": [
      "apple\n"
     ]
    }
   ],
   "source": [
    "#19. Write a code to access the first element of the tuple ('apple', 'banana', 'cherry').\n",
    "fruits = ('apple', 'banana', 'cherry')\n",
    "first_element = fruits[0]\n",
    "print(first_element)"
   ]
  },
  {
   "cell_type": "code",
   "execution_count": 39,
   "id": "f3fc0577-8690-488d-98d8-b6bb0c4cf925",
   "metadata": {},
   "outputs": [
    {
     "name": "stdout",
     "output_type": "stream",
     "text": [
      "3\n"
     ]
    }
   ],
   "source": [
    "#20. Write a code to count how many times the number 2 appears in the tuple (1, 2, 3, 2, 4, 2).\n",
    "tup = (1,2,3,2,4,2)\n",
    "print(tup.count(2))"
   ]
  },
  {
   "cell_type": "code",
   "execution_count": 41,
   "id": "d54bf099-b7c1-4aa6-b755-d912b521f855",
   "metadata": {},
   "outputs": [
    {
     "name": "stdout",
     "output_type": "stream",
     "text": [
      "1\n"
     ]
    }
   ],
   "source": [
    "#21.  Write a code to find the index of the element \"cat\" in the tuple ('dog', 'cat', 'rabbit').\n",
    "animals = ('dog','cat','rabbit')\n",
    "index_of_cat = animals.index('cat')\n",
    "print(index_of_cat)"
   ]
  },
  {
   "cell_type": "code",
   "execution_count": 43,
   "id": "9c31241e-e59a-4955-ab16-63855b7b66f6",
   "metadata": {},
   "outputs": [
    {
     "name": "stdout",
     "output_type": "stream",
     "text": [
      "True\n"
     ]
    }
   ],
   "source": [
    "#22.  Write a code to check if the element \"banana\" is in the tuple ('apple', 'orange', 'banana').\n",
    "fruits = ('apple','orange','banana')\n",
    "banana_in_fruits = 'banana' in fruits\n",
    "print(banana_in_fruits)"
   ]
  },
  {
   "cell_type": "code",
   "execution_count": 45,
   "id": "0d5d0449-b048-4740-9ca4-9d4f00be3c1f",
   "metadata": {},
   "outputs": [
    {
     "name": "stdout",
     "output_type": "stream",
     "text": [
      "{1, 2, 3, 4, 5}\n"
     ]
    }
   ],
   "source": [
    "#23. Write a code to create a set with the elements 1, 2, 3, 4, 5 and print it.\n",
    "set1 = {1,2,3,4,5}\n",
    "print(set1)"
   ]
  },
  {
   "cell_type": "code",
   "execution_count": 47,
   "id": "62eee4cd-cec5-4e28-8f7e-917100f2408b",
   "metadata": {},
   "outputs": [
    {
     "name": "stdout",
     "output_type": "stream",
     "text": [
      "{1, 2, 3, 4, 6}\n"
     ]
    }
   ],
   "source": [
    "#24.  Write a code to add the element 6 to the set {1, 2, 3, 4}.\n",
    "set1 = {1,2,3,4}\n",
    "set1.add(6)\n",
    "print(set1)"
   ]
  },
  {
   "cell_type": "code",
   "execution_count": null,
   "id": "bba4f67e-1890-4dba-8925-ac8c5a6ac320",
   "metadata": {},
   "outputs": [],
   "source": []
  }
 ],
 "metadata": {
  "kernelspec": {
   "display_name": "Python 3 (ipykernel)",
   "language": "python",
   "name": "python3"
  },
  "language_info": {
   "codemirror_mode": {
    "name": "ipython",
    "version": 3
   },
   "file_extension": ".py",
   "mimetype": "text/x-python",
   "name": "python",
   "nbconvert_exporter": "python",
   "pygments_lexer": "ipython3",
   "version": "3.12.7"
  }
 },
 "nbformat": 4,
 "nbformat_minor": 5
}
